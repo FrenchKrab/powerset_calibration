{
 "cells": [
  {
   "cell_type": "markdown",
   "metadata": {},
   "source": [
    "# Load the model"
   ]
  },
  {
   "cell_type": "code",
   "execution_count": 1,
   "metadata": {},
   "outputs": [],
   "source": [
    "MODEL_PATH = 'pyannote/segmentation-3.0'\n",
    "MY_TOKEN = None\n",
    "\n",
    "\n",
    "PYDB_PATH=\"/home/aplaquet/work58/databases/msdwild/database.yml\"\n",
    "PROTOCOL=\"MSDWILD.SpeakerDiarization.OriginalMany\"\n",
    "PROTOCOL_SUBSET='test'"
   ]
  },
  {
   "cell_type": "code",
   "execution_count": 2,
   "metadata": {},
   "outputs": [],
   "source": [
    "from pyannote.audio import Model\n",
    "\n",
    "\n",
    "model = Model.from_pretrained(MODEL_PATH, use_auth_token=MY_TOKEN)"
   ]
  },
  {
   "cell_type": "code",
   "execution_count": 3,
   "metadata": {},
   "outputs": [],
   "source": [
    "from pyannote.database import registry, FileFinder\n",
    "\n",
    "registry.load_database(PYDB_PATH)\n",
    "protocol = registry.get_protocol(PROTOCOL, preprocessors={\"audio\": FileFinder()})"
   ]
  },
  {
   "cell_type": "markdown",
   "metadata": {},
   "source": [
    "# Generate inference file"
   ]
  },
  {
   "cell_type": "code",
   "execution_count": 4,
   "metadata": {},
   "outputs": [
    {
     "name": "stdout",
     "output_type": "stream",
     "text": [
      "Inference started at 2024-06-10 11:05:48\n"
     ]
    },
    {
     "name": "stderr",
     "output_type": "stream",
     "text": [
      "100%|██████████| 177/177 [00:11<00:00, 16.05it/s, (11:06:00) 03141]\n"
     ]
    },
    {
     "name": "stdout",
     "output_type": "stream",
     "text": [
      "Inference done at 2024-06-10 11:06:00. Saving ...\n"
     ]
    }
   ],
   "source": [
    "from powerset_calibration.inference import get_inference_fid, model_inference_to_file\n",
    "\n",
    "output_identifier = get_inference_fid('segmentation', PROTOCOL, PROTOCOL_SUBSET)\n",
    "model_inference_to_file(\n",
    "    model=model,\n",
    "    protocol=protocol.test(),\n",
    "    output_identifier=output_identifier,\n",
    "    outputs_folder='outputs',\n",
    "    step_ratio=0.5,\n",
    ")"
   ]
  },
  {
   "cell_type": "markdown",
   "metadata": {},
   "source": [
    "# Evaluate inference file\n"
   ]
  },
  {
   "cell_type": "code",
   "execution_count": 10,
   "metadata": {},
   "outputs": [
    {
     "name": "stdout",
     "output_type": "stream",
     "text": [
      "Local DER: 36.62 % (FA: 9.40 %, MISS: 13.89 %, CONF: 13.33 %)\n"
     ]
    }
   ],
   "source": [
    "from powerset_calibration.evaluation import DerComponentsDict, compute_der_inference_file\n",
    "from pathlib import Path\n",
    "\n",
    "stats: DerComponentsDict = compute_der_inference_file(\n",
    "    fid=Path('outputs') / output_identifier\n",
    ")\n",
    "\n",
    "print(f'Local DER: {stats[\"der\"]*100:.2f} % (FA: {stats[\"false_alarm\"]*100:.2f} %, MISS: {stats[\"missed_detection\"]*100:.2f} %, CONF: {stats[\"speaker_confusion\"]*100:.2f} %)')"
   ]
  }
 ],
 "metadata": {
  "kernelspec": {
   "display_name": "Python 3",
   "language": "python",
   "name": "python3"
  },
  "language_info": {
   "codemirror_mode": {
    "name": "ipython",
    "version": 3
   },
   "file_extension": ".py",
   "mimetype": "text/x-python",
   "name": "python",
   "nbconvert_exporter": "python",
   "pygments_lexer": "ipython3",
   "version": "3.11.9"
  }
 },
 "nbformat": 4,
 "nbformat_minor": 2
}
