{
 "cells": [
  {
   "cell_type": "code",
   "execution_count": 1,
   "metadata": {},
   "outputs": [],
   "source": [
    "PROTOCOL=\"MSDWILD.SpeakerDiarization.OriginalMany\"\n",
    "PROTOCOL_SUBSET='test'\n",
    "\n",
    "PYDB_PATH = \"/home/aplaquet/work58/databases/msdwild/database.yml\""
   ]
  },
  {
   "cell_type": "code",
   "execution_count": 2,
   "metadata": {},
   "outputs": [],
   "source": [
    "import pandas as pd\n",
    "from pathlib import Path\n",
    "from powerset_calibration.inference import get_inference_fid, get_inf_metadata_filename\n",
    "\n",
    "fid = get_inference_fid('segmentation', PROTOCOL, PROTOCOL_SUBSET)\n",
    "fid_path = Path('outputs')/fid"
   ]
  },
  {
   "cell_type": "code",
   "execution_count": 3,
   "metadata": {},
   "outputs": [],
   "source": [
    "from pyannote.database import registry\n",
    "\n",
    "registry.load_database(PYDB_PATH)"
   ]
  },
  {
   "cell_type": "markdown",
   "metadata": {},
   "source": [
    "`ActiveLearningProtocolSettings` types the dictionaries that configure our ActiveLearningProtocol. Please see its docstrings for more details.\n",
    "\n",
    "You don't have to provide all settings, sane values will be used for missing keys. But please specify `inference`, `scope`, `window_duration`, `annotated_duration` or ratio, and `heuristic`,"
   ]
  },
  {
   "cell_type": "code",
   "execution_count": 10,
   "metadata": {},
   "outputs": [
    {
     "name": "stdout",
     "output_type": "stream",
     "text": [
      "Found 177 URIs for subsets ('test',)\n",
      "Generating active learning windows from 1687485 samples\n"
     ]
    }
   ],
   "source": [
    "from powerset_calibration.protocol import ActiveLearningProtocol, ActiveLearningProtocolSettings\n",
    "\n",
    "\n",
    "al_settings: ActiveLearningProtocolSettings = {\n",
    "    'inference': fid_path,\n",
    "    'scope': 'dataset',         # below constraints apply to the whole dataset rather than each file\n",
    "    'window_duration': 10.0,    # selected regions should be at least 10 seconds long\n",
    "    'sliding_window_step': 0.5, # search regions with a precision of 0.5 seconds\n",
    "    'annotated_ratio': 0.5, # 30 seconds should be selected\n",
    "    'heuristic': 'confidence',  # select the region with the lowest **confidence**\n",
    "    'heuristic_direction': 'worst', # select the region with the **lowest** confidence\n",
    "    'aggregation': 'soft_segmentation',\n",
    "} # type: ignore"
   ]
  },
  {
   "cell_type": "markdown",
   "metadata": {},
   "source": [
    "Now let's load both the untouched protocol and the new altered protocol.\n",
    "\n",
    "What `ActiveLearningProtocol` does is simply edit the `'annotated'` key of all files of the protocol so that the contained timeline describes the regions selected by the algorithm according to the parameters/settings that were passed."
   ]
  },
  {
   "cell_type": "code",
   "execution_count": null,
   "metadata": {},
   "outputs": [],
   "source": [
    "original_protocol = registry.get_protocol(PROTOCOL)\n",
    "protocol = ActiveLearningProtocol(\n",
    "    protocol=PROTOCOL,\n",
    "    settings={\n",
    "        ('test',) : al_settings\n",
    "    },\n",
    "    uem_save_path=Path('outputs') / 'selected_regions.uem',\n",
    ")"
   ]
  },
  {
   "cell_type": "markdown",
   "metadata": {},
   "source": [
    "Let's look at some UEM to see if they were edited (of course they were)"
   ]
  },
  {
   "cell_type": "code",
   "execution_count": 14,
   "metadata": {},
   "outputs": [
    {
     "data": {
      "image/png": "[encoded data removed]",
      "text/plain": [
       "<Timeline(uri=00004, segments=[<Segment(0, 27.338)>])>"
      ]
     },
     "execution_count": 14,
     "metadata": {},
     "output_type": "execute_result"
    }
   ],
   "source": [
    "from pyannote.core import notebook\n",
    "og_uem = next(original_protocol.test())['annotated']\n",
    "notebook.crop = og_uem.extent()\n",
    "og_uem"
   ]
  },
  {
   "cell_type": "code",
   "execution_count": 15,
   "metadata": {},
   "outputs": [
    {
     "data": {
      "image/png": "[encoded data removed]",
      "text/plain": [
       "<Timeline(uri=00004, segments=[<Segment(3.93888, 14.4312)>, <Segment(15.7555, 26.7402)>])>"
      ]
     },
     "execution_count": 15,
     "metadata": {},
     "output_type": "execute_result"
    }
   ],
   "source": [
    "next(protocol.test())['annotated']"
   ]
  },
  {
   "cell_type": "code",
   "execution_count": 20,
   "metadata": {},
   "outputs": [
    {
     "name": "stdout",
     "output_type": "stream",
     "text": [
      "Total UEM duration in:\n",
      "- original protocol: 14656.6s\n",
      "- new protocol: 7329.2s (50.01%)\n"
     ]
    }
   ],
   "source": [
    "total_dur_og = 0.0\n",
    "for file in original_protocol.test():\n",
    "    total_dur_og += file['annotated'].duration()\n",
    "\n",
    "total_dur_new = 0.0\n",
    "for file in protocol.test():\n",
    "    total_dur_new += file['annotated'].duration()\n",
    "\n",
    "print(f'Total UEM duration in:\\n- original protocol: {total_dur_og:.1f}s\\n- new protocol: {total_dur_new:.1f}s ({total_dur_new/total_dur_og*100:.2f}%)')"
   ]
  },
  {
   "cell_type": "markdown",
   "metadata": {},
   "source": [
    "That's it ! You can then use this protocol as usual in tasks / for evaluation / etc.\n",
    "If you want to add new heuristics / strategies, I strongly recommend cloning this repository and extending the code. But I also provide a quick rundown of what happens in the ActiveLearningProtocol in the [notebook #3](3_advanced_use.ipynb) if you want more information."
   ]
  }
 ],
 "metadata": {
  "kernelspec": {
   "display_name": "Python 3",
   "language": "python",
   "name": "python3"
  },
  "language_info": {
   "codemirror_mode": {
    "name": "ipython",
    "version": 3
   },
   "file_extension": ".py",
   "mimetype": "text/x-python",
   "name": "python",
   "nbconvert_exporter": "python",
   "pygments_lexer": "ipython3",
   "version": "3.11.9"
  }
 },
 "nbformat": 4,
 "nbformat_minor": 2
}
